{
 "cells": [
  {
   "cell_type": "code",
   "execution_count": 1,
   "metadata": {},
   "outputs": [],
   "source": [
    "import numpy as np\n",
    "import pandas as pd"
   ]
  },
  {
   "cell_type": "code",
   "execution_count": 2,
   "metadata": {},
   "outputs": [],
   "source": [
    "# Read the data\n",
    "raw_data = pd.read_csv('Dataset.csv')"
   ]
  },
  {
   "cell_type": "code",
   "execution_count": 4,
   "metadata": {},
   "outputs": [],
   "source": [
    "raw_data.drop(['Unnamed: 0'], axis=1, inplace=True)"
   ]
  },
  {
   "cell_type": "code",
   "execution_count": 9,
   "metadata": {},
   "outputs": [
    {
     "data": {
      "text/html": [
       "<div>\n",
       "<style scoped>\n",
       "    .dataframe tbody tr th:only-of-type {\n",
       "        vertical-align: middle;\n",
       "    }\n",
       "\n",
       "    .dataframe tbody tr th {\n",
       "        vertical-align: top;\n",
       "    }\n",
       "\n",
       "    .dataframe thead th {\n",
       "        text-align: right;\n",
       "    }\n",
       "</style>\n",
       "<table border=\"1\" class=\"dataframe\">\n",
       "  <thead>\n",
       "    <tr style=\"text-align: right;\">\n",
       "      <th></th>\n",
       "      <th>Hour</th>\n",
       "      <th>HR</th>\n",
       "      <th>O2Sat</th>\n",
       "      <th>Temp</th>\n",
       "      <th>SBP</th>\n",
       "      <th>MAP</th>\n",
       "      <th>DBP</th>\n",
       "      <th>Resp</th>\n",
       "      <th>EtCO2</th>\n",
       "      <th>BaseExcess</th>\n",
       "      <th>...</th>\n",
       "      <th>Fibrinogen</th>\n",
       "      <th>Platelets</th>\n",
       "      <th>Age</th>\n",
       "      <th>Gender</th>\n",
       "      <th>Unit1</th>\n",
       "      <th>Unit2</th>\n",
       "      <th>HospAdmTime</th>\n",
       "      <th>ICULOS</th>\n",
       "      <th>SepsisLabel</th>\n",
       "      <th>Patient_ID</th>\n",
       "    </tr>\n",
       "  </thead>\n",
       "  <tbody>\n",
       "    <tr>\n",
       "      <th>285</th>\n",
       "      <td>50</td>\n",
       "      <td>87.0</td>\n",
       "      <td>100.0</td>\n",
       "      <td>NaN</td>\n",
       "      <td>105.0</td>\n",
       "      <td>65.0</td>\n",
       "      <td>67.0</td>\n",
       "      <td>19.0</td>\n",
       "      <td>NaN</td>\n",
       "      <td>NaN</td>\n",
       "      <td>...</td>\n",
       "      <td>NaN</td>\n",
       "      <td>NaN</td>\n",
       "      <td>59.28</td>\n",
       "      <td>1</td>\n",
       "      <td>NaN</td>\n",
       "      <td>NaN</td>\n",
       "      <td>-0.02</td>\n",
       "      <td>53</td>\n",
       "      <td>1</td>\n",
       "      <td>11093</td>\n",
       "    </tr>\n",
       "    <tr>\n",
       "      <th>286</th>\n",
       "      <td>51</td>\n",
       "      <td>93.0</td>\n",
       "      <td>100.0</td>\n",
       "      <td>NaN</td>\n",
       "      <td>94.0</td>\n",
       "      <td>72.0</td>\n",
       "      <td>56.0</td>\n",
       "      <td>18.0</td>\n",
       "      <td>NaN</td>\n",
       "      <td>NaN</td>\n",
       "      <td>...</td>\n",
       "      <td>NaN</td>\n",
       "      <td>NaN</td>\n",
       "      <td>59.28</td>\n",
       "      <td>1</td>\n",
       "      <td>NaN</td>\n",
       "      <td>NaN</td>\n",
       "      <td>-0.02</td>\n",
       "      <td>54</td>\n",
       "      <td>1</td>\n",
       "      <td>11093</td>\n",
       "    </tr>\n",
       "    <tr>\n",
       "      <th>287</th>\n",
       "      <td>52</td>\n",
       "      <td>95.0</td>\n",
       "      <td>100.0</td>\n",
       "      <td>NaN</td>\n",
       "      <td>110.0</td>\n",
       "      <td>80.0</td>\n",
       "      <td>90.0</td>\n",
       "      <td>13.0</td>\n",
       "      <td>NaN</td>\n",
       "      <td>NaN</td>\n",
       "      <td>...</td>\n",
       "      <td>NaN</td>\n",
       "      <td>NaN</td>\n",
       "      <td>59.28</td>\n",
       "      <td>1</td>\n",
       "      <td>NaN</td>\n",
       "      <td>NaN</td>\n",
       "      <td>-0.02</td>\n",
       "      <td>55</td>\n",
       "      <td>1</td>\n",
       "      <td>11093</td>\n",
       "    </tr>\n",
       "    <tr>\n",
       "      <th>288</th>\n",
       "      <td>53</td>\n",
       "      <td>94.0</td>\n",
       "      <td>100.0</td>\n",
       "      <td>NaN</td>\n",
       "      <td>95.0</td>\n",
       "      <td>74.0</td>\n",
       "      <td>58.0</td>\n",
       "      <td>20.0</td>\n",
       "      <td>NaN</td>\n",
       "      <td>NaN</td>\n",
       "      <td>...</td>\n",
       "      <td>NaN</td>\n",
       "      <td>NaN</td>\n",
       "      <td>59.28</td>\n",
       "      <td>1</td>\n",
       "      <td>NaN</td>\n",
       "      <td>NaN</td>\n",
       "      <td>-0.02</td>\n",
       "      <td>56</td>\n",
       "      <td>1</td>\n",
       "      <td>11093</td>\n",
       "    </tr>\n",
       "    <tr>\n",
       "      <th>289</th>\n",
       "      <td>54</td>\n",
       "      <td>94.0</td>\n",
       "      <td>100.0</td>\n",
       "      <td>NaN</td>\n",
       "      <td>95.0</td>\n",
       "      <td>73.0</td>\n",
       "      <td>58.0</td>\n",
       "      <td>22.0</td>\n",
       "      <td>NaN</td>\n",
       "      <td>NaN</td>\n",
       "      <td>...</td>\n",
       "      <td>NaN</td>\n",
       "      <td>NaN</td>\n",
       "      <td>59.28</td>\n",
       "      <td>1</td>\n",
       "      <td>NaN</td>\n",
       "      <td>NaN</td>\n",
       "      <td>-0.02</td>\n",
       "      <td>57</td>\n",
       "      <td>1</td>\n",
       "      <td>11093</td>\n",
       "    </tr>\n",
       "    <tr>\n",
       "      <th>...</th>\n",
       "      <td>...</td>\n",
       "      <td>...</td>\n",
       "      <td>...</td>\n",
       "      <td>...</td>\n",
       "      <td>...</td>\n",
       "      <td>...</td>\n",
       "      <td>...</td>\n",
       "      <td>...</td>\n",
       "      <td>...</td>\n",
       "      <td>...</td>\n",
       "      <td>...</td>\n",
       "      <td>...</td>\n",
       "      <td>...</td>\n",
       "      <td>...</td>\n",
       "      <td>...</td>\n",
       "      <td>...</td>\n",
       "      <td>...</td>\n",
       "      <td>...</td>\n",
       "      <td>...</td>\n",
       "      <td>...</td>\n",
       "      <td>...</td>\n",
       "    </tr>\n",
       "    <tr>\n",
       "      <th>1551371</th>\n",
       "      <td>5</td>\n",
       "      <td>54.5</td>\n",
       "      <td>98.5</td>\n",
       "      <td>37.2</td>\n",
       "      <td>104.5</td>\n",
       "      <td>74.0</td>\n",
       "      <td>55.0</td>\n",
       "      <td>NaN</td>\n",
       "      <td>31.5</td>\n",
       "      <td>NaN</td>\n",
       "      <td>...</td>\n",
       "      <td>NaN</td>\n",
       "      <td>NaN</td>\n",
       "      <td>66.00</td>\n",
       "      <td>1</td>\n",
       "      <td>1.0</td>\n",
       "      <td>0.0</td>\n",
       "      <td>0.00</td>\n",
       "      <td>6</td>\n",
       "      <td>1</td>\n",
       "      <td>119010</td>\n",
       "    </tr>\n",
       "    <tr>\n",
       "      <th>1551372</th>\n",
       "      <td>6</td>\n",
       "      <td>54.0</td>\n",
       "      <td>96.0</td>\n",
       "      <td>NaN</td>\n",
       "      <td>112.0</td>\n",
       "      <td>74.0</td>\n",
       "      <td>52.0</td>\n",
       "      <td>NaN</td>\n",
       "      <td>37.0</td>\n",
       "      <td>NaN</td>\n",
       "      <td>...</td>\n",
       "      <td>NaN</td>\n",
       "      <td>NaN</td>\n",
       "      <td>66.00</td>\n",
       "      <td>1</td>\n",
       "      <td>1.0</td>\n",
       "      <td>0.0</td>\n",
       "      <td>0.00</td>\n",
       "      <td>7</td>\n",
       "      <td>1</td>\n",
       "      <td>119010</td>\n",
       "    </tr>\n",
       "    <tr>\n",
       "      <th>1551373</th>\n",
       "      <td>7</td>\n",
       "      <td>67.5</td>\n",
       "      <td>96.5</td>\n",
       "      <td>NaN</td>\n",
       "      <td>118.0</td>\n",
       "      <td>77.0</td>\n",
       "      <td>55.0</td>\n",
       "      <td>NaN</td>\n",
       "      <td>38.0</td>\n",
       "      <td>NaN</td>\n",
       "      <td>...</td>\n",
       "      <td>NaN</td>\n",
       "      <td>NaN</td>\n",
       "      <td>66.00</td>\n",
       "      <td>1</td>\n",
       "      <td>1.0</td>\n",
       "      <td>0.0</td>\n",
       "      <td>0.00</td>\n",
       "      <td>8</td>\n",
       "      <td>1</td>\n",
       "      <td>119010</td>\n",
       "    </tr>\n",
       "    <tr>\n",
       "      <th>1551374</th>\n",
       "      <td>8</td>\n",
       "      <td>67.0</td>\n",
       "      <td>96.0</td>\n",
       "      <td>NaN</td>\n",
       "      <td>115.5</td>\n",
       "      <td>76.0</td>\n",
       "      <td>55.5</td>\n",
       "      <td>NaN</td>\n",
       "      <td>NaN</td>\n",
       "      <td>NaN</td>\n",
       "      <td>...</td>\n",
       "      <td>NaN</td>\n",
       "      <td>NaN</td>\n",
       "      <td>66.00</td>\n",
       "      <td>1</td>\n",
       "      <td>1.0</td>\n",
       "      <td>0.0</td>\n",
       "      <td>0.00</td>\n",
       "      <td>9</td>\n",
       "      <td>1</td>\n",
       "      <td>119010</td>\n",
       "    </tr>\n",
       "    <tr>\n",
       "      <th>1551375</th>\n",
       "      <td>9</td>\n",
       "      <td>64.5</td>\n",
       "      <td>95.0</td>\n",
       "      <td>NaN</td>\n",
       "      <td>113.5</td>\n",
       "      <td>74.5</td>\n",
       "      <td>55.0</td>\n",
       "      <td>NaN</td>\n",
       "      <td>NaN</td>\n",
       "      <td>NaN</td>\n",
       "      <td>...</td>\n",
       "      <td>NaN</td>\n",
       "      <td>NaN</td>\n",
       "      <td>66.00</td>\n",
       "      <td>1</td>\n",
       "      <td>1.0</td>\n",
       "      <td>0.0</td>\n",
       "      <td>0.00</td>\n",
       "      <td>10</td>\n",
       "      <td>1</td>\n",
       "      <td>119010</td>\n",
       "    </tr>\n",
       "  </tbody>\n",
       "</table>\n",
       "<p>27916 rows × 43 columns</p>\n",
       "</div>"
      ],
      "text/plain": [
       "         Hour    HR  O2Sat  Temp    SBP   MAP   DBP  Resp  EtCO2  BaseExcess  \\\n",
       "285        50  87.0  100.0   NaN  105.0  65.0  67.0  19.0    NaN         NaN   \n",
       "286        51  93.0  100.0   NaN   94.0  72.0  56.0  18.0    NaN         NaN   \n",
       "287        52  95.0  100.0   NaN  110.0  80.0  90.0  13.0    NaN         NaN   \n",
       "288        53  94.0  100.0   NaN   95.0  74.0  58.0  20.0    NaN         NaN   \n",
       "289        54  94.0  100.0   NaN   95.0  73.0  58.0  22.0    NaN         NaN   \n",
       "...       ...   ...    ...   ...    ...   ...   ...   ...    ...         ...   \n",
       "1551371     5  54.5   98.5  37.2  104.5  74.0  55.0   NaN   31.5         NaN   \n",
       "1551372     6  54.0   96.0   NaN  112.0  74.0  52.0   NaN   37.0         NaN   \n",
       "1551373     7  67.5   96.5   NaN  118.0  77.0  55.0   NaN   38.0         NaN   \n",
       "1551374     8  67.0   96.0   NaN  115.5  76.0  55.5   NaN    NaN         NaN   \n",
       "1551375     9  64.5   95.0   NaN  113.5  74.5  55.0   NaN    NaN         NaN   \n",
       "\n",
       "         ...  Fibrinogen  Platelets    Age  Gender  Unit1  Unit2  HospAdmTime  \\\n",
       "285      ...         NaN        NaN  59.28       1    NaN    NaN        -0.02   \n",
       "286      ...         NaN        NaN  59.28       1    NaN    NaN        -0.02   \n",
       "287      ...         NaN        NaN  59.28       1    NaN    NaN        -0.02   \n",
       "288      ...         NaN        NaN  59.28       1    NaN    NaN        -0.02   \n",
       "289      ...         NaN        NaN  59.28       1    NaN    NaN        -0.02   \n",
       "...      ...         ...        ...    ...     ...    ...    ...          ...   \n",
       "1551371  ...         NaN        NaN  66.00       1    1.0    0.0         0.00   \n",
       "1551372  ...         NaN        NaN  66.00       1    1.0    0.0         0.00   \n",
       "1551373  ...         NaN        NaN  66.00       1    1.0    0.0         0.00   \n",
       "1551374  ...         NaN        NaN  66.00       1    1.0    0.0         0.00   \n",
       "1551375  ...         NaN        NaN  66.00       1    1.0    0.0         0.00   \n",
       "\n",
       "         ICULOS  SepsisLabel  Patient_ID  \n",
       "285          53            1       11093  \n",
       "286          54            1       11093  \n",
       "287          55            1       11093  \n",
       "288          56            1       11093  \n",
       "289          57            1       11093  \n",
       "...         ...          ...         ...  \n",
       "1551371       6            1      119010  \n",
       "1551372       7            1      119010  \n",
       "1551373       8            1      119010  \n",
       "1551374       9            1      119010  \n",
       "1551375      10            1      119010  \n",
       "\n",
       "[27916 rows x 43 columns]"
      ]
     },
     "execution_count": 9,
     "metadata": {},
     "output_type": "execute_result"
    }
   ],
   "source": [
    "raw_data[raw_data.SepsisLabel == 1]\n"
   ]
  },
  {
   "cell_type": "code",
   "execution_count": 7,
   "metadata": {},
   "outputs": [],
   "source": [
    "import sklearn as sk\n"
   ]
  },
  {
   "cell_type": "code",
   "execution_count": 14,
   "metadata": {},
   "outputs": [
    {
     "name": "stdout",
     "output_type": "stream",
     "text": [
      "<class 'pandas.core.frame.DataFrame'>\n",
      "RangeIndex: 1552210 entries, 0 to 1552209\n",
      "Data columns (total 43 columns):\n",
      " #   Column            Non-Null Count    Dtype  \n",
      "---  ------            --------------    -----  \n",
      " 0   Hour              1552210 non-null  int64  \n",
      " 1   HR                1398811 non-null  float64\n",
      " 2   O2Sat             1349474 non-null  float64\n",
      " 3   Temp              525226 non-null   float64\n",
      " 4   SBP               1325945 non-null  float64\n",
      " 5   MAP               1358940 non-null  float64\n",
      " 6   DBP               1065656 non-null  float64\n",
      " 7   Resp              1313875 non-null  float64\n",
      " 8   EtCO2             57636 non-null    float64\n",
      " 9   BaseExcess        84145 non-null    float64\n",
      " 10  HCO3              65028 non-null    float64\n",
      " 11  FiO2              129365 non-null   float64\n",
      " 12  pH                107573 non-null   float64\n",
      " 13  PaCO2             86301 non-null    float64\n",
      " 14  SaO2              53561 non-null    float64\n",
      " 15  AST               25183 non-null    float64\n",
      " 16  BUN               106568 non-null   float64\n",
      " 17  Alkalinephos      24941 non-null    float64\n",
      " 18  Calcium           91331 non-null    float64\n",
      " 19  Chloride          70466 non-null    float64\n",
      " 20  Creatinine        94616 non-null    float64\n",
      " 21  Bilirubin_direct  2990 non-null     float64\n",
      " 22  Glucose           265516 non-null   float64\n",
      " 23  Lactate           41446 non-null    float64\n",
      " 24  Magnesium         97951 non-null    float64\n",
      " 25  Phosphate         62301 non-null    float64\n",
      " 26  Potassium         144525 non-null   float64\n",
      " 27  Bilirubin_total   23141 non-null    float64\n",
      " 28  TroponinI         14781 non-null    float64\n",
      " 29  Hct               137433 non-null   float64\n",
      " 30  Hgb               114591 non-null   float64\n",
      " 31  PTT               45699 non-null    float64\n",
      " 32  WBC               99447 non-null    float64\n",
      " 33  Fibrinogen        10242 non-null    float64\n",
      " 34  Platelets         92209 non-null    float64\n",
      " 35  Age               1552210 non-null  float64\n",
      " 36  Gender            1552210 non-null  int64  \n",
      " 37  Unit1             940250 non-null   float64\n",
      " 38  Unit2             940250 non-null   float64\n",
      " 39  HospAdmTime       1552202 non-null  float64\n",
      " 40  ICULOS            1552210 non-null  int64  \n",
      " 41  SepsisLabel       1552210 non-null  int64  \n",
      " 42  Patient_ID        1552210 non-null  int64  \n",
      "dtypes: float64(38), int64(5)\n",
      "memory usage: 509.2 MB\n"
     ]
    }
   ],
   "source": [
    "#  Find the type of data in each column, and the number of non-null values\n",
    "raw_data.info()\n",
    "\n"
   ]
  },
  {
   "cell_type": "code",
   "execution_count": 19,
   "metadata": {},
   "outputs": [],
   "source": [
    "#  Drop Columns ICULOS, PatientID\n",
    "raw_data.drop(['ICULOS', 'Patient_ID'], axis=1, inplace=True)\n"
   ]
  },
  {
   "cell_type": "code",
   "execution_count": 24,
   "metadata": {},
   "outputs": [],
   "source": [
    "raw_data.drop(['Unit1', 'Unit2'], axis=1, inplace=True)\n"
   ]
  },
  {
   "cell_type": "code",
   "execution_count": 21,
   "metadata": {},
   "outputs": [],
   "source": [
    "# Convert categorical data to numerical data\n",
    "# raw_data = pd.get_dummies(raw_data, columns=['Gender'])\n",
    "\n",
    "# Remove the first 6 hours of data\n",
    "raw_data = raw_data[raw_data['Hour'] > 6]\n",
    "\n",
    "# Remove the last 6 hours of data\n",
    "raw_data = raw_data[raw_data['Hour'] < 42]\n",
    "\n",
    "# Fill empty values with appropiate values\n",
    "raw_data['HR'].fillna(raw_data['HR'].mean(), inplace=True)\n",
    "raw_data['O2Sat'].fillna(raw_data['O2Sat'].mean(), inplace=True)\n",
    "raw_data['Temp'].fillna(raw_data['Temp'].mean(), inplace=True)\n",
    "raw_data['SBP'].fillna(raw_data['SBP'].mean(), inplace=True)\n",
    "raw_data['MAP'].fillna(raw_data['MAP'].mean(), inplace=True)\n",
    "raw_data['DBP'].fillna(raw_data['DBP'].mean(), inplace=True)\n",
    "raw_data['Resp'].fillna(raw_data['Resp'].mean(), inplace=True)\n",
    "raw_data['EtCO2'].fillna(raw_data['EtCO2'].mean(), inplace=True)\n",
    "raw_data['BaseExcess'].fillna(raw_data['BaseExcess'].mean(), inplace=True)\n",
    "raw_data['HCO3'].fillna(raw_data['HCO3'].mean(), inplace=True)\n",
    "raw_data['FiO2'].fillna(raw_data['FiO2'].mean(), inplace=True)\n",
    "raw_data['pH'].fillna(raw_data['pH'].mean(), inplace=True)\n",
    "raw_data['PaCO2'].fillna(raw_data['PaCO2'].mean(), inplace=True)\n",
    "raw_data['SaO2'].fillna(raw_data['SaO2'].mean(), inplace=True)\n",
    "raw_data['AST'].fillna(raw_data['AST'].mean(), inplace=True)\n",
    "raw_data['BUN'].fillna(raw_data['BUN'].mean(), inplace=True)\n",
    "raw_data['Alkalinephos'].fillna(raw_data['Alkalinephos'].mean(), inplace=True)\n",
    "raw_data['Calcium'].fillna(raw_data['Calcium'].mean(), inplace=True)\n",
    "raw_data['Chloride'].fillna(raw_data['Chloride'].mean(), inplace=True)\n",
    "raw_data['Creatinine'].fillna(raw_data['Creatinine'].mean(), inplace=True)\n",
    "raw_data['Bilirubin_direct'].fillna(raw_data['Bilirubin_direct'].mean(), inplace=True)\n",
    "raw_data['Glucose'].fillna(raw_data['Glucose'].mean(), inplace=True)\n",
    "raw_data['Lactate'].fillna(raw_data['Lactate'].mean(), inplace=True)\n",
    "raw_data['Magnesium'].fillna(raw_data['Magnesium'].mean(), inplace=True)\n",
    "raw_data['Phosphate'].fillna(raw_data['Phosphate'].mean(), inplace=True)\n",
    "raw_data['Potassium'].fillna(raw_data['Potassium'].mean(), inplace=True)\n",
    "raw_data['Bilirubin_total'].fillna(raw_data['Bilirubin_total'].mean(), inplace=True)\n",
    "raw_data['TroponinI'].fillna(raw_data['TroponinI'].mean(), inplace=True)\n",
    "raw_data['Hct'].fillna(raw_data['Hct'].mean(), inplace=True)\n",
    "raw_data['Hgb'].fillna(raw_data['Hgb'].mean(), inplace=True)\n",
    "raw_data['PTT'].fillna(raw_data['PTT'].mean(), inplace=True)\n",
    "raw_data['WBC'].fillna(raw_data['WBC'].mean(), inplace=True)\n",
    "raw_data['Fibrinogen'].fillna(raw_data['Fibrinogen'].mean(), inplace=True)\n",
    "raw_data['Platelets'].fillna(raw_data['Platelets'].mean(), inplace=True)\n",
    "raw_data['Age'].fillna(raw_data['Age'].mean(), inplace=True)\n",
    "\n"
   ]
  },
  {
   "cell_type": "code",
   "execution_count": 28,
   "metadata": {},
   "outputs": [
    {
     "name": "stdout",
     "output_type": "stream",
     "text": [
      "<class 'pandas.core.frame.DataFrame'>\n",
      "Int64Index: 1061514 entries, 7 to 1552209\n",
      "Data columns (total 40 columns):\n",
      " #   Column            Non-Null Count    Dtype  \n",
      "---  ------            --------------    -----  \n",
      " 0   Hour              1061514 non-null  int64  \n",
      " 1   HR                1061514 non-null  float64\n",
      " 2   O2Sat             1061514 non-null  float64\n",
      " 3   Temp              1061514 non-null  float64\n",
      " 4   SBP               1061514 non-null  float64\n",
      " 5   MAP               1061514 non-null  float64\n",
      " 6   DBP               1061514 non-null  float64\n",
      " 7   Resp              1061514 non-null  float64\n",
      " 8   EtCO2             1061514 non-null  float64\n",
      " 9   BaseExcess        1061514 non-null  float64\n",
      " 10  HCO3              1061514 non-null  float64\n",
      " 11  FiO2              1061514 non-null  float64\n",
      " 12  pH                1061514 non-null  float64\n",
      " 13  PaCO2             1061514 non-null  float64\n",
      " 14  SaO2              1061514 non-null  float64\n",
      " 15  AST               1061514 non-null  float64\n",
      " 16  BUN               1061514 non-null  float64\n",
      " 17  Alkalinephos      1061514 non-null  float64\n",
      " 18  Calcium           1061514 non-null  float64\n",
      " 19  Chloride          1061514 non-null  float64\n",
      " 20  Creatinine        1061514 non-null  float64\n",
      " 21  Bilirubin_direct  1061514 non-null  float64\n",
      " 22  Glucose           1061514 non-null  float64\n",
      " 23  Lactate           1061514 non-null  float64\n",
      " 24  Magnesium         1061514 non-null  float64\n",
      " 25  Phosphate         1061514 non-null  float64\n",
      " 26  Potassium         1061514 non-null  float64\n",
      " 27  Bilirubin_total   1061514 non-null  float64\n",
      " 28  TroponinI         1061514 non-null  float64\n",
      " 29  Hct               1061514 non-null  float64\n",
      " 30  Hgb               1061514 non-null  float64\n",
      " 31  PTT               1061514 non-null  float64\n",
      " 32  WBC               1061514 non-null  float64\n",
      " 33  Fibrinogen        1061514 non-null  float64\n",
      " 34  Platelets         1061514 non-null  float64\n",
      " 35  Age               1061514 non-null  float64\n",
      " 36  HospAdmTime       1061513 non-null  float64\n",
      " 37  SepsisLabel       1061514 non-null  int64  \n",
      " 38  Gender_0          1061514 non-null  uint8  \n",
      " 39  Gender_1          1061514 non-null  uint8  \n",
      "dtypes: float64(36), int64(2), uint8(2)\n",
      "memory usage: 317.9 MB\n"
     ]
    }
   ],
   "source": [
    "raw_data.info()\n",
    "\n",
    "# Drop rows with NaN values\n",
    "raw_data.dropna(inplace=True)"
   ]
  },
  {
   "cell_type": "code",
   "execution_count": 29,
   "metadata": {},
   "outputs": [
    {
     "name": "stdout",
     "output_type": "stream",
     "text": [
      "<class 'pandas.core.frame.DataFrame'>\n",
      "Int64Index: 1061513 entries, 7 to 1552209\n",
      "Data columns (total 40 columns):\n",
      " #   Column            Non-Null Count    Dtype  \n",
      "---  ------            --------------    -----  \n",
      " 0   Hour              1061513 non-null  int64  \n",
      " 1   HR                1061513 non-null  float64\n",
      " 2   O2Sat             1061513 non-null  float64\n",
      " 3   Temp              1061513 non-null  float64\n",
      " 4   SBP               1061513 non-null  float64\n",
      " 5   MAP               1061513 non-null  float64\n",
      " 6   DBP               1061513 non-null  float64\n",
      " 7   Resp              1061513 non-null  float64\n",
      " 8   EtCO2             1061513 non-null  float64\n",
      " 9   BaseExcess        1061513 non-null  float64\n",
      " 10  HCO3              1061513 non-null  float64\n",
      " 11  FiO2              1061513 non-null  float64\n",
      " 12  pH                1061513 non-null  float64\n",
      " 13  PaCO2             1061513 non-null  float64\n",
      " 14  SaO2              1061513 non-null  float64\n",
      " 15  AST               1061513 non-null  float64\n",
      " 16  BUN               1061513 non-null  float64\n",
      " 17  Alkalinephos      1061513 non-null  float64\n",
      " 18  Calcium           1061513 non-null  float64\n",
      " 19  Chloride          1061513 non-null  float64\n",
      " 20  Creatinine        1061513 non-null  float64\n",
      " 21  Bilirubin_direct  1061513 non-null  float64\n",
      " 22  Glucose           1061513 non-null  float64\n",
      " 23  Lactate           1061513 non-null  float64\n",
      " 24  Magnesium         1061513 non-null  float64\n",
      " 25  Phosphate         1061513 non-null  float64\n",
      " 26  Potassium         1061513 non-null  float64\n",
      " 27  Bilirubin_total   1061513 non-null  float64\n",
      " 28  TroponinI         1061513 non-null  float64\n",
      " 29  Hct               1061513 non-null  float64\n",
      " 30  Hgb               1061513 non-null  float64\n",
      " 31  PTT               1061513 non-null  float64\n",
      " 32  WBC               1061513 non-null  float64\n",
      " 33  Fibrinogen        1061513 non-null  float64\n",
      " 34  Platelets         1061513 non-null  float64\n",
      " 35  Age               1061513 non-null  float64\n",
      " 36  HospAdmTime       1061513 non-null  float64\n",
      " 37  SepsisLabel       1061513 non-null  int64  \n",
      " 38  Gender_0          1061513 non-null  uint8  \n",
      " 39  Gender_1          1061513 non-null  uint8  \n",
      "dtypes: float64(36), int64(2), uint8(2)\n",
      "memory usage: 317.9 MB\n"
     ]
    }
   ],
   "source": [
    "raw_data.info()\n"
   ]
  },
  {
   "cell_type": "code",
   "execution_count": 33,
   "metadata": {},
   "outputs": [],
   "source": [
    "# Split the data into train and test\n",
    "from sklearn.model_selection import train_test_split\n",
    "\n",
    "X = raw_data.drop(['SepsisLabel'], axis=1)\n",
    "y = raw_data['SepsisLabel']\n",
    "\n",
    "X_train, X_test, y_train, y_test = train_test_split(\n",
    "    X, y, test_size=0.2, random_state=42)\n"
   ]
  },
  {
   "cell_type": "code",
   "execution_count": null,
   "metadata": {},
   "outputs": [],
   "source": [
    "# Lets see what logistic regression gives\n",
    "from sklearn.linear_model import LogisticRegression\n",
    "# Train the model\n",
    "logisticRegr = LogisticRegression()\n",
    "logisticRegr.fit(X_train, y_train)\n"
   ]
  },
  {
   "cell_type": "code",
   "execution_count": 32,
   "metadata": {},
   "outputs": [
    {
     "data": {
      "text/plain": [
       "0.9892465014625323"
      ]
     },
     "execution_count": 32,
     "metadata": {},
     "output_type": "execute_result"
    }
   ],
   "source": [
    "# Test the model\n",
    "logisticRegr.score(X_test, y_test)\n"
   ]
  },
  {
   "cell_type": "code",
   "execution_count": 34,
   "metadata": {},
   "outputs": [
    {
     "data": {
      "text/html": [
       "<style>#sk-container-id-2 {color: black;background-color: white;}#sk-container-id-2 pre{padding: 0;}#sk-container-id-2 div.sk-toggleable {background-color: white;}#sk-container-id-2 label.sk-toggleable__label {cursor: pointer;display: block;width: 100%;margin-bottom: 0;padding: 0.3em;box-sizing: border-box;text-align: center;}#sk-container-id-2 label.sk-toggleable__label-arrow:before {content: \"▸\";float: left;margin-right: 0.25em;color: #696969;}#sk-container-id-2 label.sk-toggleable__label-arrow:hover:before {color: black;}#sk-container-id-2 div.sk-estimator:hover label.sk-toggleable__label-arrow:before {color: black;}#sk-container-id-2 div.sk-toggleable__content {max-height: 0;max-width: 0;overflow: hidden;text-align: left;background-color: #f0f8ff;}#sk-container-id-2 div.sk-toggleable__content pre {margin: 0.2em;color: black;border-radius: 0.25em;background-color: #f0f8ff;}#sk-container-id-2 input.sk-toggleable__control:checked~div.sk-toggleable__content {max-height: 200px;max-width: 100%;overflow: auto;}#sk-container-id-2 input.sk-toggleable__control:checked~label.sk-toggleable__label-arrow:before {content: \"▾\";}#sk-container-id-2 div.sk-estimator input.sk-toggleable__control:checked~label.sk-toggleable__label {background-color: #d4ebff;}#sk-container-id-2 div.sk-label input.sk-toggleable__control:checked~label.sk-toggleable__label {background-color: #d4ebff;}#sk-container-id-2 input.sk-hidden--visually {border: 0;clip: rect(1px 1px 1px 1px);clip: rect(1px, 1px, 1px, 1px);height: 1px;margin: -1px;overflow: hidden;padding: 0;position: absolute;width: 1px;}#sk-container-id-2 div.sk-estimator {font-family: monospace;background-color: #f0f8ff;border: 1px dotted black;border-radius: 0.25em;box-sizing: border-box;margin-bottom: 0.5em;}#sk-container-id-2 div.sk-estimator:hover {background-color: #d4ebff;}#sk-container-id-2 div.sk-parallel-item::after {content: \"\";width: 100%;border-bottom: 1px solid gray;flex-grow: 1;}#sk-container-id-2 div.sk-label:hover label.sk-toggleable__label {background-color: #d4ebff;}#sk-container-id-2 div.sk-serial::before {content: \"\";position: absolute;border-left: 1px solid gray;box-sizing: border-box;top: 0;bottom: 0;left: 50%;z-index: 0;}#sk-container-id-2 div.sk-serial {display: flex;flex-direction: column;align-items: center;background-color: white;padding-right: 0.2em;padding-left: 0.2em;position: relative;}#sk-container-id-2 div.sk-item {position: relative;z-index: 1;}#sk-container-id-2 div.sk-parallel {display: flex;align-items: stretch;justify-content: center;background-color: white;position: relative;}#sk-container-id-2 div.sk-item::before, #sk-container-id-2 div.sk-parallel-item::before {content: \"\";position: absolute;border-left: 1px solid gray;box-sizing: border-box;top: 0;bottom: 0;left: 50%;z-index: -1;}#sk-container-id-2 div.sk-parallel-item {display: flex;flex-direction: column;z-index: 1;position: relative;background-color: white;}#sk-container-id-2 div.sk-parallel-item:first-child::after {align-self: flex-end;width: 50%;}#sk-container-id-2 div.sk-parallel-item:last-child::after {align-self: flex-start;width: 50%;}#sk-container-id-2 div.sk-parallel-item:only-child::after {width: 0;}#sk-container-id-2 div.sk-dashed-wrapped {border: 1px dashed gray;margin: 0 0.4em 0.5em 0.4em;box-sizing: border-box;padding-bottom: 0.4em;background-color: white;}#sk-container-id-2 div.sk-label label {font-family: monospace;font-weight: bold;display: inline-block;line-height: 1.2em;}#sk-container-id-2 div.sk-label-container {text-align: center;}#sk-container-id-2 div.sk-container {/* jupyter's `normalize.less` sets `[hidden] { display: none; }` but bootstrap.min.css set `[hidden] { display: none !important; }` so we also need the `!important` here to be able to override the default hidden behavior on the sphinx rendered scikit-learn.org. See: https://github.com/scikit-learn/scikit-learn/issues/21755 */display: inline-block !important;position: relative;}#sk-container-id-2 div.sk-text-repr-fallback {display: none;}</style><div id=\"sk-container-id-2\" class=\"sk-top-container\"><div class=\"sk-text-repr-fallback\"><pre>RandomForestClassifier(max_depth=2, random_state=0)</pre><b>In a Jupyter environment, please rerun this cell to show the HTML representation or trust the notebook. <br />On GitHub, the HTML representation is unable to render, please try loading this page with nbviewer.org.</b></div><div class=\"sk-container\" hidden><div class=\"sk-item\"><div class=\"sk-estimator sk-toggleable\"><input class=\"sk-toggleable__control sk-hidden--visually\" id=\"sk-estimator-id-2\" type=\"checkbox\" checked><label for=\"sk-estimator-id-2\" class=\"sk-toggleable__label sk-toggleable__label-arrow\">RandomForestClassifier</label><div class=\"sk-toggleable__content\"><pre>RandomForestClassifier(max_depth=2, random_state=0)</pre></div></div></div></div></div>"
      ],
      "text/plain": [
       "RandomForestClassifier(max_depth=2, random_state=0)"
      ]
     },
     "execution_count": 34,
     "metadata": {},
     "output_type": "execute_result"
    }
   ],
   "source": [
    "#  Lets see what a random forest gives\n",
    "\n",
    "from sklearn.ensemble import RandomForestClassifier\n",
    "\n",
    "# Train the model\n",
    "rf = RandomForestClassifier(n_estimators=100, max_depth=2, random_state=0)\n",
    "rf.fit(X_train, y_train)\n",
    "\n"
   ]
  },
  {
   "cell_type": "code",
   "execution_count": 35,
   "metadata": {},
   "outputs": [
    {
     "data": {
      "text/plain": [
       "0.9892465014625323"
      ]
     },
     "execution_count": 35,
     "metadata": {},
     "output_type": "execute_result"
    }
   ],
   "source": [
    "# Test the model\n",
    "rf.score(X_test, y_test)"
   ]
  },
  {
   "cell_type": "code",
   "execution_count": 36,
   "metadata": {},
   "outputs": [
    {
     "data": {
      "text/html": [
       "<style>#sk-container-id-3 {color: black;background-color: white;}#sk-container-id-3 pre{padding: 0;}#sk-container-id-3 div.sk-toggleable {background-color: white;}#sk-container-id-3 label.sk-toggleable__label {cursor: pointer;display: block;width: 100%;margin-bottom: 0;padding: 0.3em;box-sizing: border-box;text-align: center;}#sk-container-id-3 label.sk-toggleable__label-arrow:before {content: \"▸\";float: left;margin-right: 0.25em;color: #696969;}#sk-container-id-3 label.sk-toggleable__label-arrow:hover:before {color: black;}#sk-container-id-3 div.sk-estimator:hover label.sk-toggleable__label-arrow:before {color: black;}#sk-container-id-3 div.sk-toggleable__content {max-height: 0;max-width: 0;overflow: hidden;text-align: left;background-color: #f0f8ff;}#sk-container-id-3 div.sk-toggleable__content pre {margin: 0.2em;color: black;border-radius: 0.25em;background-color: #f0f8ff;}#sk-container-id-3 input.sk-toggleable__control:checked~div.sk-toggleable__content {max-height: 200px;max-width: 100%;overflow: auto;}#sk-container-id-3 input.sk-toggleable__control:checked~label.sk-toggleable__label-arrow:before {content: \"▾\";}#sk-container-id-3 div.sk-estimator input.sk-toggleable__control:checked~label.sk-toggleable__label {background-color: #d4ebff;}#sk-container-id-3 div.sk-label input.sk-toggleable__control:checked~label.sk-toggleable__label {background-color: #d4ebff;}#sk-container-id-3 input.sk-hidden--visually {border: 0;clip: rect(1px 1px 1px 1px);clip: rect(1px, 1px, 1px, 1px);height: 1px;margin: -1px;overflow: hidden;padding: 0;position: absolute;width: 1px;}#sk-container-id-3 div.sk-estimator {font-family: monospace;background-color: #f0f8ff;border: 1px dotted black;border-radius: 0.25em;box-sizing: border-box;margin-bottom: 0.5em;}#sk-container-id-3 div.sk-estimator:hover {background-color: #d4ebff;}#sk-container-id-3 div.sk-parallel-item::after {content: \"\";width: 100%;border-bottom: 1px solid gray;flex-grow: 1;}#sk-container-id-3 div.sk-label:hover label.sk-toggleable__label {background-color: #d4ebff;}#sk-container-id-3 div.sk-serial::before {content: \"\";position: absolute;border-left: 1px solid gray;box-sizing: border-box;top: 0;bottom: 0;left: 50%;z-index: 0;}#sk-container-id-3 div.sk-serial {display: flex;flex-direction: column;align-items: center;background-color: white;padding-right: 0.2em;padding-left: 0.2em;position: relative;}#sk-container-id-3 div.sk-item {position: relative;z-index: 1;}#sk-container-id-3 div.sk-parallel {display: flex;align-items: stretch;justify-content: center;background-color: white;position: relative;}#sk-container-id-3 div.sk-item::before, #sk-container-id-3 div.sk-parallel-item::before {content: \"\";position: absolute;border-left: 1px solid gray;box-sizing: border-box;top: 0;bottom: 0;left: 50%;z-index: -1;}#sk-container-id-3 div.sk-parallel-item {display: flex;flex-direction: column;z-index: 1;position: relative;background-color: white;}#sk-container-id-3 div.sk-parallel-item:first-child::after {align-self: flex-end;width: 50%;}#sk-container-id-3 div.sk-parallel-item:last-child::after {align-self: flex-start;width: 50%;}#sk-container-id-3 div.sk-parallel-item:only-child::after {width: 0;}#sk-container-id-3 div.sk-dashed-wrapped {border: 1px dashed gray;margin: 0 0.4em 0.5em 0.4em;box-sizing: border-box;padding-bottom: 0.4em;background-color: white;}#sk-container-id-3 div.sk-label label {font-family: monospace;font-weight: bold;display: inline-block;line-height: 1.2em;}#sk-container-id-3 div.sk-label-container {text-align: center;}#sk-container-id-3 div.sk-container {/* jupyter's `normalize.less` sets `[hidden] { display: none; }` but bootstrap.min.css set `[hidden] { display: none !important; }` so we also need the `!important` here to be able to override the default hidden behavior on the sphinx rendered scikit-learn.org. See: https://github.com/scikit-learn/scikit-learn/issues/21755 */display: inline-block !important;position: relative;}#sk-container-id-3 div.sk-text-repr-fallback {display: none;}</style><div id=\"sk-container-id-3\" class=\"sk-top-container\"><div class=\"sk-text-repr-fallback\"><pre>DecisionTreeClassifier(random_state=0)</pre><b>In a Jupyter environment, please rerun this cell to show the HTML representation or trust the notebook. <br />On GitHub, the HTML representation is unable to render, please try loading this page with nbviewer.org.</b></div><div class=\"sk-container\" hidden><div class=\"sk-item\"><div class=\"sk-estimator sk-toggleable\"><input class=\"sk-toggleable__control sk-hidden--visually\" id=\"sk-estimator-id-3\" type=\"checkbox\" checked><label for=\"sk-estimator-id-3\" class=\"sk-toggleable__label sk-toggleable__label-arrow\">DecisionTreeClassifier</label><div class=\"sk-toggleable__content\"><pre>DecisionTreeClassifier(random_state=0)</pre></div></div></div></div></div>"
      ],
      "text/plain": [
       "DecisionTreeClassifier(random_state=0)"
      ]
     },
     "execution_count": 36,
     "metadata": {},
     "output_type": "execute_result"
    }
   ],
   "source": [
    "#  Lets see what a decision tree gives\n",
    "\n",
    "from sklearn.tree import DecisionTreeClassifier\n",
    "\n",
    "# Train the model\n",
    "dt = DecisionTreeClassifier(random_state=0)\n",
    "dt.fit(X_train, y_train)"
   ]
  },
  {
   "cell_type": "code",
   "execution_count": 37,
   "metadata": {},
   "outputs": [
    {
     "data": {
      "text/plain": [
       "0.9807115302186027"
      ]
     },
     "execution_count": 37,
     "metadata": {},
     "output_type": "execute_result"
    }
   ],
   "source": [
    "#  Test the model\n",
    "dt.score(X_test, y_test)"
   ]
  },
  {
   "cell_type": "code",
   "execution_count": 39,
   "metadata": {},
   "outputs": [
    {
     "data": {
      "text/html": [
       "<style>#sk-container-id-4 {color: black;background-color: white;}#sk-container-id-4 pre{padding: 0;}#sk-container-id-4 div.sk-toggleable {background-color: white;}#sk-container-id-4 label.sk-toggleable__label {cursor: pointer;display: block;width: 100%;margin-bottom: 0;padding: 0.3em;box-sizing: border-box;text-align: center;}#sk-container-id-4 label.sk-toggleable__label-arrow:before {content: \"▸\";float: left;margin-right: 0.25em;color: #696969;}#sk-container-id-4 label.sk-toggleable__label-arrow:hover:before {color: black;}#sk-container-id-4 div.sk-estimator:hover label.sk-toggleable__label-arrow:before {color: black;}#sk-container-id-4 div.sk-toggleable__content {max-height: 0;max-width: 0;overflow: hidden;text-align: left;background-color: #f0f8ff;}#sk-container-id-4 div.sk-toggleable__content pre {margin: 0.2em;color: black;border-radius: 0.25em;background-color: #f0f8ff;}#sk-container-id-4 input.sk-toggleable__control:checked~div.sk-toggleable__content {max-height: 200px;max-width: 100%;overflow: auto;}#sk-container-id-4 input.sk-toggleable__control:checked~label.sk-toggleable__label-arrow:before {content: \"▾\";}#sk-container-id-4 div.sk-estimator input.sk-toggleable__control:checked~label.sk-toggleable__label {background-color: #d4ebff;}#sk-container-id-4 div.sk-label input.sk-toggleable__control:checked~label.sk-toggleable__label {background-color: #d4ebff;}#sk-container-id-4 input.sk-hidden--visually {border: 0;clip: rect(1px 1px 1px 1px);clip: rect(1px, 1px, 1px, 1px);height: 1px;margin: -1px;overflow: hidden;padding: 0;position: absolute;width: 1px;}#sk-container-id-4 div.sk-estimator {font-family: monospace;background-color: #f0f8ff;border: 1px dotted black;border-radius: 0.25em;box-sizing: border-box;margin-bottom: 0.5em;}#sk-container-id-4 div.sk-estimator:hover {background-color: #d4ebff;}#sk-container-id-4 div.sk-parallel-item::after {content: \"\";width: 100%;border-bottom: 1px solid gray;flex-grow: 1;}#sk-container-id-4 div.sk-label:hover label.sk-toggleable__label {background-color: #d4ebff;}#sk-container-id-4 div.sk-serial::before {content: \"\";position: absolute;border-left: 1px solid gray;box-sizing: border-box;top: 0;bottom: 0;left: 50%;z-index: 0;}#sk-container-id-4 div.sk-serial {display: flex;flex-direction: column;align-items: center;background-color: white;padding-right: 0.2em;padding-left: 0.2em;position: relative;}#sk-container-id-4 div.sk-item {position: relative;z-index: 1;}#sk-container-id-4 div.sk-parallel {display: flex;align-items: stretch;justify-content: center;background-color: white;position: relative;}#sk-container-id-4 div.sk-item::before, #sk-container-id-4 div.sk-parallel-item::before {content: \"\";position: absolute;border-left: 1px solid gray;box-sizing: border-box;top: 0;bottom: 0;left: 50%;z-index: -1;}#sk-container-id-4 div.sk-parallel-item {display: flex;flex-direction: column;z-index: 1;position: relative;background-color: white;}#sk-container-id-4 div.sk-parallel-item:first-child::after {align-self: flex-end;width: 50%;}#sk-container-id-4 div.sk-parallel-item:last-child::after {align-self: flex-start;width: 50%;}#sk-container-id-4 div.sk-parallel-item:only-child::after {width: 0;}#sk-container-id-4 div.sk-dashed-wrapped {border: 1px dashed gray;margin: 0 0.4em 0.5em 0.4em;box-sizing: border-box;padding-bottom: 0.4em;background-color: white;}#sk-container-id-4 div.sk-label label {font-family: monospace;font-weight: bold;display: inline-block;line-height: 1.2em;}#sk-container-id-4 div.sk-label-container {text-align: center;}#sk-container-id-4 div.sk-container {/* jupyter's `normalize.less` sets `[hidden] { display: none; }` but bootstrap.min.css set `[hidden] { display: none !important; }` so we also need the `!important` here to be able to override the default hidden behavior on the sphinx rendered scikit-learn.org. See: https://github.com/scikit-learn/scikit-learn/issues/21755 */display: inline-block !important;position: relative;}#sk-container-id-4 div.sk-text-repr-fallback {display: none;}</style><div id=\"sk-container-id-4\" class=\"sk-top-container\"><div class=\"sk-text-repr-fallback\"><pre>KNeighborsClassifier(n_neighbors=3)</pre><b>In a Jupyter environment, please rerun this cell to show the HTML representation or trust the notebook. <br />On GitHub, the HTML representation is unable to render, please try loading this page with nbviewer.org.</b></div><div class=\"sk-container\" hidden><div class=\"sk-item\"><div class=\"sk-estimator sk-toggleable\"><input class=\"sk-toggleable__control sk-hidden--visually\" id=\"sk-estimator-id-4\" type=\"checkbox\" checked><label for=\"sk-estimator-id-4\" class=\"sk-toggleable__label sk-toggleable__label-arrow\">KNeighborsClassifier</label><div class=\"sk-toggleable__content\"><pre>KNeighborsClassifier(n_neighbors=3)</pre></div></div></div></div></div>"
      ],
      "text/plain": [
       "KNeighborsClassifier(n_neighbors=3)"
      ]
     },
     "execution_count": 39,
     "metadata": {},
     "output_type": "execute_result"
    }
   ],
   "source": [
    "#  Lets see what a KNN gives\n",
    "\n",
    "from sklearn.neighbors import KNeighborsClassifier\n",
    "\n",
    "# Train the model\n",
    "knn = KNeighborsClassifier(n_neighbors=3)\n",
    "knn.fit(X_train, y_train)\n"
   ]
  },
  {
   "cell_type": "code",
   "execution_count": 40,
   "metadata": {},
   "outputs": [
    {
     "data": {
      "text/plain": [
       "0.9894914344121374"
      ]
     },
     "execution_count": 40,
     "metadata": {},
     "output_type": "execute_result"
    }
   ],
   "source": [
    "# Test the model\n",
    "knn.score(X_test, y_test)"
   ]
  },
  {
   "cell_type": "code",
   "execution_count": 41,
   "metadata": {},
   "outputs": [],
   "source": [
    "#  Lets see what a SVM gives\n",
    "\n",
    "from sklearn import svm\n",
    "\n",
    "# Train the model\n",
    "svm = svm.SVC()\n",
    "svm.fit(X_train, y_train)"
   ]
  },
  {
   "cell_type": "code",
   "execution_count": null,
   "metadata": {},
   "outputs": [],
   "source": [
    "# Lets test the model\n",
    "svm.score(X_test, y_test)"
   ]
  },
  {
   "cell_type": "code",
   "execution_count": null,
   "metadata": {},
   "outputs": [],
   "source": [
    "# Lets see what a Naive Bayes gives\n",
    "\n",
    "from sklearn.naive_bayes import GaussianNB\n",
    "\n",
    "# Train the model\n",
    "gnb = GaussianNB()\n",
    "gnb.fit(X_train, y_train)"
   ]
  },
  {
   "cell_type": "code",
   "execution_count": null,
   "metadata": {},
   "outputs": [],
   "source": [
    "# Lets test the model\n",
    "gnb.score(X_test, y_test)"
   ]
  },
  {
   "cell_type": "code",
   "execution_count": null,
   "metadata": {},
   "outputs": [],
   "source": [
    "# Lets see what a Neural Network gives\n",
    "\n",
    "from sklearn.neural_network import MLPClassifier\n",
    "\n",
    "# Train the model\n",
    "mlp = MLPClassifier(solver='lbfgs', alpha=1e-5, hidden_layer_sizes=(5, 2), random_state=1)\n",
    "mlp.fit(X_train, y_train)"
   ]
  },
  {
   "cell_type": "code",
   "execution_count": null,
   "metadata": {},
   "outputs": [],
   "source": [
    "# Lets test the model\n",
    "mlp.score(X_test, y_test)"
   ]
  },
  {
   "cell_type": "code",
   "execution_count": null,
   "metadata": {},
   "outputs": [],
   "source": [
    "#  Lets see what a Gradient Boosting gives\n",
    "\n",
    "from sklearn.ensemble import GradientBoostingClassifier\n",
    "\n",
    "# Train the model\n",
    "gbc = GradientBoostingClassifier(n_estimators=100, learning_rate=1.0, max_depth=1, random_state=0)\n",
    "gbc.fit(X_train, y_train)"
   ]
  },
  {
   "cell_type": "code",
   "execution_count": null,
   "metadata": {},
   "outputs": [],
   "source": [
    "# Lets test the model\n",
    "gbc.score(X_test, y_test)"
   ]
  },
  {
   "cell_type": "code",
   "execution_count": null,
   "metadata": {},
   "outputs": [],
   "source": [
    "# Lets see what a XGBoost gives\n",
    "\n",
    "from xgboost import XGBClassifier\n",
    "\n",
    "# Train the model\n",
    "xgb = XGBClassifier()\n",
    "xgb.fit(X_train, y_train)\n"
   ]
  },
  {
   "cell_type": "code",
   "execution_count": null,
   "metadata": {},
   "outputs": [],
   "source": [
    "# Lets test the model\n",
    "xgb.score(X_test, y_test)"
   ]
  },
  {
   "cell_type": "code",
   "execution_count": null,
   "metadata": {},
   "outputs": [],
   "source": [
    "# Lets see what a AdaBoost gives\n",
    "\n",
    "from sklearn.ensemble import AdaBoostClassifier\n",
    "\n",
    "# Train the model\n",
    "abc = AdaBoostClassifier(n_estimators=100, random_state=0)\n",
    "abc.fit(X_train, y_train)\n"
   ]
  },
  {
   "cell_type": "code",
   "execution_count": null,
   "metadata": {},
   "outputs": [],
   "source": [
    "# Lets test the model\n",
    "abc.score(X_test, y_test)"
   ]
  },
  {
   "cell_type": "code",
   "execution_count": null,
   "metadata": {},
   "outputs": [],
   "source": [
    "# Lets see what a Bagging gives\n",
    "\n",
    "from sklearn.ensemble import BaggingClassifier\n",
    "\n",
    "# Train the model\n",
    "bc = BaggingClassifier(base_estimator=DecisionTreeClassifier(), n_estimators=10, random_state=0)\n",
    "bc.fit(X_train, y_train)"
   ]
  },
  {
   "cell_type": "code",
   "execution_count": null,
   "metadata": {},
   "outputs": [],
   "source": [
    "# Lets test the model\n",
    "bc.score(X_test, y_test)"
   ]
  },
  {
   "cell_type": "code",
   "execution_count": null,
   "metadata": {},
   "outputs": [],
   "source": [
    "#  Lets see what a Extra Trees gives\n",
    "\n",
    "from sklearn.ensemble import ExtraTreesClassifier\n",
    "\n",
    "# Train the model\n",
    "etc = ExtraTreesClassifier(n_estimators=100, max_depth=None, min_samples_split=2, random_state=0)\n",
    "etc.fit(X_train, y_train)\n"
   ]
  },
  {
   "cell_type": "code",
   "execution_count": 13,
   "metadata": {},
   "outputs": [],
   "source": [
    "\n",
    "import numpy as np\n",
    "a = np.random.randn(2, 1)\n",
    "\n",
    "b = np.random.randn(2, 3)\n",
    "\n",
    "c = a+b"
   ]
  },
  {
   "cell_type": "code",
   "execution_count": 15,
   "metadata": {},
   "outputs": [
    {
     "data": {
      "text/plain": [
       "(2, 3)"
      ]
     },
     "execution_count": 15,
     "metadata": {},
     "output_type": "execute_result"
    }
   ],
   "source": [
    "c.shape"
   ]
  },
  {
   "cell_type": "code",
   "execution_count": 4,
   "metadata": {},
   "outputs": [
    {
     "data": {
      "text/plain": [
       "array([[ 1.65769023, -1.31328431, -0.45235151],\n",
       "       [ 0.60401268, -0.6313578 ,  0.45059369],\n",
       "       [-0.60086606,  1.04688795,  0.06432204]])"
      ]
     },
     "execution_count": 4,
     "metadata": {},
     "output_type": "execute_result"
    }
   ],
   "source": [
    "a"
   ]
  },
  {
   "cell_type": "code",
   "execution_count": 10,
   "metadata": {},
   "outputs": [],
   "source": [
    "a=np.array([[2,1],[1,3]])"
   ]
  },
  {
   "cell_type": "code",
   "execution_count": 12,
   "metadata": {},
   "outputs": [
    {
     "data": {
      "text/plain": [
       "array([[ 5,  5],\n",
       "       [ 5, 10]])"
      ]
     },
     "execution_count": 12,
     "metadata": {},
     "output_type": "execute_result"
    }
   ],
   "source": [
    "np.dot(a,a)\n"
   ]
  },
  {
   "cell_type": "code",
   "execution_count": null,
   "metadata": {},
   "outputs": [],
   "source": []
  }
 ],
 "metadata": {
  "kernelspec": {
   "display_name": "Python 3.11.0 64-bit",
   "language": "python",
   "name": "python3"
  },
  "language_info": {
   "codemirror_mode": {
    "name": "ipython",
    "version": 3
   },
   "file_extension": ".py",
   "mimetype": "text/x-python",
   "name": "python",
   "nbconvert_exporter": "python",
   "pygments_lexer": "ipython3",
   "version": "3.11.0"
  },
  "orig_nbformat": 4,
  "vscode": {
   "interpreter": {
    "hash": "aee8b7b246df8f9039afb4144a1f6fd8d2ca17a180786b69acc140d282b71a49"
   }
  }
 },
 "nbformat": 4,
 "nbformat_minor": 2
}
